{
 "cells": [
  {
   "cell_type": "markdown",
   "id": "9069fcd5",
   "metadata": {},
   "source": [
    "# Recommender System with Collaborative Filtering"
   ]
  },
  {
   "cell_type": "markdown",
   "id": "d2fdedcc",
   "metadata": {},
   "source": [
    "First, we need to read the data from the dataset."
   ]
  },
  {
   "cell_type": "code",
   "execution_count": 89,
   "metadata": {},
   "outputs": [],
   "source": [
    "import pandas as pd\n",
    "import numpy as np"
   ]
  },
  {
   "cell_type": "code",
   "execution_count": 90,
   "id": "b1240e60",
   "metadata": {},
   "outputs": [],
   "source": [
    "datasets_loc = \"datasets\"\n",
    "# datasets_loc = \"toy_datasets\""
   ]
  },
  {
   "cell_type": "code",
   "execution_count": 91,
   "id": "c15cde7f",
   "metadata": {},
   "outputs": [],
   "source": [
    "ratings = pd.read_csv(datasets_loc + \"/ratings.csv\", delim_whitespace=True, skiprows=1, names=[\"UserID\", \"ProfileID\", \"Rating\"])\n",
    "gender = pd.read_csv(datasets_loc + \"/gender.csv\", names=[\"UserID\", \"Gender\"])"
   ]
  },
  {
   "cell_type": "markdown",
   "id": "572ce2eb",
   "metadata": {},
   "source": [
    "Here is our data. UserID is the user, ProfileID is the profile that user is looking at."
   ]
  },
  {
   "cell_type": "code",
   "execution_count": 92,
   "id": "75322186",
   "metadata": {},
   "outputs": [
    {
     "data": {
      "text/html": [
       "<div>\n",
       "<style scoped>\n",
       "    .dataframe tbody tr th:only-of-type {\n",
       "        vertical-align: middle;\n",
       "    }\n",
       "\n",
       "    .dataframe tbody tr th {\n",
       "        vertical-align: top;\n",
       "    }\n",
       "\n",
       "    .dataframe thead th {\n",
       "        text-align: right;\n",
       "    }\n",
       "</style>\n",
       "<table border=\"1\" class=\"dataframe\">\n",
       "  <thead>\n",
       "    <tr style=\"text-align: right;\">\n",
       "      <th></th>\n",
       "      <th>UserID</th>\n",
       "      <th>ProfileID</th>\n",
       "      <th>Rating</th>\n",
       "    </tr>\n",
       "  </thead>\n",
       "  <tbody>\n",
       "    <tr>\n",
       "      <th>0</th>\n",
       "      <td>1</td>\n",
       "      <td>133</td>\n",
       "      <td>8</td>\n",
       "    </tr>\n",
       "    <tr>\n",
       "      <th>1</th>\n",
       "      <td>1</td>\n",
       "      <td>720</td>\n",
       "      <td>6</td>\n",
       "    </tr>\n",
       "    <tr>\n",
       "      <th>2</th>\n",
       "      <td>1</td>\n",
       "      <td>971</td>\n",
       "      <td>10</td>\n",
       "    </tr>\n",
       "    <tr>\n",
       "      <th>3</th>\n",
       "      <td>1</td>\n",
       "      <td>1095</td>\n",
       "      <td>7</td>\n",
       "    </tr>\n",
       "    <tr>\n",
       "      <th>4</th>\n",
       "      <td>1</td>\n",
       "      <td>1616</td>\n",
       "      <td>10</td>\n",
       "    </tr>\n",
       "  </tbody>\n",
       "</table>\n",
       "</div>"
      ],
      "text/plain": [
       "   UserID  ProfileID  Rating\n",
       "0       1        133       8\n",
       "1       1        720       6\n",
       "2       1        971      10\n",
       "3       1       1095       7\n",
       "4       1       1616      10"
      ]
     },
     "execution_count": 92,
     "metadata": {},
     "output_type": "execute_result"
    }
   ],
   "source": [
    "ratings.head()"
   ]
  },
  {
   "cell_type": "code",
   "execution_count": 93,
   "id": "5823db24",
   "metadata": {},
   "outputs": [
    {
     "data": {
      "text/html": [
       "<div>\n",
       "<style scoped>\n",
       "    .dataframe tbody tr th:only-of-type {\n",
       "        vertical-align: middle;\n",
       "    }\n",
       "\n",
       "    .dataframe tbody tr th {\n",
       "        vertical-align: top;\n",
       "    }\n",
       "\n",
       "    .dataframe thead th {\n",
       "        text-align: right;\n",
       "    }\n",
       "</style>\n",
       "<table border=\"1\" class=\"dataframe\">\n",
       "  <thead>\n",
       "    <tr style=\"text-align: right;\">\n",
       "      <th></th>\n",
       "      <th>UserID</th>\n",
       "      <th>Gender</th>\n",
       "    </tr>\n",
       "  </thead>\n",
       "  <tbody>\n",
       "    <tr>\n",
       "      <th>0</th>\n",
       "      <td>1</td>\n",
       "      <td>F</td>\n",
       "    </tr>\n",
       "    <tr>\n",
       "      <th>1</th>\n",
       "      <td>2</td>\n",
       "      <td>F</td>\n",
       "    </tr>\n",
       "    <tr>\n",
       "      <th>2</th>\n",
       "      <td>3</td>\n",
       "      <td>U</td>\n",
       "    </tr>\n",
       "    <tr>\n",
       "      <th>3</th>\n",
       "      <td>4</td>\n",
       "      <td>F</td>\n",
       "    </tr>\n",
       "    <tr>\n",
       "      <th>4</th>\n",
       "      <td>5</td>\n",
       "      <td>F</td>\n",
       "    </tr>\n",
       "  </tbody>\n",
       "</table>\n",
       "</div>"
      ],
      "text/plain": [
       "   UserID Gender\n",
       "0       1      F\n",
       "1       2      F\n",
       "2       3      U\n",
       "3       4      F\n",
       "4       5      F"
      ]
     },
     "execution_count": 93,
     "metadata": {},
     "output_type": "execute_result"
    }
   ],
   "source": [
    "gender.head()"
   ]
  },
  {
   "cell_type": "code",
   "execution_count": 94,
   "id": "ba092e7f",
   "metadata": {},
   "outputs": [
    {
     "data": {
      "text/html": [
       "<div>\n",
       "<style scoped>\n",
       "    .dataframe tbody tr th:only-of-type {\n",
       "        vertical-align: middle;\n",
       "    }\n",
       "\n",
       "    .dataframe tbody tr th {\n",
       "        vertical-align: top;\n",
       "    }\n",
       "\n",
       "    .dataframe thead th {\n",
       "        text-align: right;\n",
       "    }\n",
       "</style>\n",
       "<table border=\"1\" class=\"dataframe\">\n",
       "  <thead>\n",
       "    <tr style=\"text-align: right;\">\n",
       "      <th></th>\n",
       "      <th>UserID</th>\n",
       "      <th>Gender</th>\n",
       "      <th>ProfileID</th>\n",
       "      <th>Rating</th>\n",
       "    </tr>\n",
       "  </thead>\n",
       "  <tbody>\n",
       "    <tr>\n",
       "      <th>0</th>\n",
       "      <td>1</td>\n",
       "      <td>F</td>\n",
       "      <td>133</td>\n",
       "      <td>8</td>\n",
       "    </tr>\n",
       "    <tr>\n",
       "      <th>1</th>\n",
       "      <td>1</td>\n",
       "      <td>F</td>\n",
       "      <td>720</td>\n",
       "      <td>6</td>\n",
       "    </tr>\n",
       "    <tr>\n",
       "      <th>2</th>\n",
       "      <td>1</td>\n",
       "      <td>F</td>\n",
       "      <td>971</td>\n",
       "      <td>10</td>\n",
       "    </tr>\n",
       "    <tr>\n",
       "      <th>3</th>\n",
       "      <td>1</td>\n",
       "      <td>F</td>\n",
       "      <td>1095</td>\n",
       "      <td>7</td>\n",
       "    </tr>\n",
       "    <tr>\n",
       "      <th>4</th>\n",
       "      <td>1</td>\n",
       "      <td>F</td>\n",
       "      <td>1616</td>\n",
       "      <td>10</td>\n",
       "    </tr>\n",
       "  </tbody>\n",
       "</table>\n",
       "</div>"
      ],
      "text/plain": [
       "   UserID Gender  ProfileID  Rating\n",
       "0       1      F        133       8\n",
       "1       1      F        720       6\n",
       "2       1      F        971      10\n",
       "3       1      F       1095       7\n",
       "4       1      F       1616      10"
      ]
     },
     "execution_count": 94,
     "metadata": {},
     "output_type": "execute_result"
    }
   ],
   "source": [
    "ratings = pd.merge(gender, ratings)\n",
    "ratings.head()"
   ]
  },
  {
   "cell_type": "markdown",
   "id": "cdea0ad9",
   "metadata": {},
   "source": [
    "# Visualize the network graph"
   ]
  },
  {
   "cell_type": "markdown",
   "id": "fd1fc0d7",
   "metadata": {},
   "source": [
    "Using the non pivot version (ratings) to visualize."
   ]
  },
  {
   "cell_type": "markdown",
   "id": "05220bd9",
   "metadata": {},
   "source": [
    "We map the rating to like/ dislike. Rating smaller than 5 will consider as a dislike to the profile."
   ]
  },
  {
   "cell_type": "code",
   "execution_count": 95,
   "id": "5f244d5f",
   "metadata": {},
   "outputs": [
    {
     "data": {
      "text/html": [
       "<div>\n",
       "<style scoped>\n",
       "    .dataframe tbody tr th:only-of-type {\n",
       "        vertical-align: middle;\n",
       "    }\n",
       "\n",
       "    .dataframe tbody tr th {\n",
       "        vertical-align: top;\n",
       "    }\n",
       "\n",
       "    .dataframe thead th {\n",
       "        text-align: right;\n",
       "    }\n",
       "</style>\n",
       "<table border=\"1\" class=\"dataframe\">\n",
       "  <thead>\n",
       "    <tr style=\"text-align: right;\">\n",
       "      <th></th>\n",
       "      <th>UserID</th>\n",
       "      <th>Gender</th>\n",
       "      <th>ProfileID</th>\n",
       "      <th>Rating</th>\n",
       "    </tr>\n",
       "  </thead>\n",
       "  <tbody>\n",
       "    <tr>\n",
       "      <th>0</th>\n",
       "      <td>1</td>\n",
       "      <td>F</td>\n",
       "      <td>133</td>\n",
       "      <td>1</td>\n",
       "    </tr>\n",
       "    <tr>\n",
       "      <th>1</th>\n",
       "      <td>1</td>\n",
       "      <td>F</td>\n",
       "      <td>720</td>\n",
       "      <td>1</td>\n",
       "    </tr>\n",
       "    <tr>\n",
       "      <th>2</th>\n",
       "      <td>1</td>\n",
       "      <td>F</td>\n",
       "      <td>971</td>\n",
       "      <td>1</td>\n",
       "    </tr>\n",
       "    <tr>\n",
       "      <th>3</th>\n",
       "      <td>1</td>\n",
       "      <td>F</td>\n",
       "      <td>1095</td>\n",
       "      <td>1</td>\n",
       "    </tr>\n",
       "    <tr>\n",
       "      <th>4</th>\n",
       "      <td>1</td>\n",
       "      <td>F</td>\n",
       "      <td>1616</td>\n",
       "      <td>1</td>\n",
       "    </tr>\n",
       "    <tr>\n",
       "      <th>...</th>\n",
       "      <td>...</td>\n",
       "      <td>...</td>\n",
       "      <td>...</td>\n",
       "      <td>...</td>\n",
       "    </tr>\n",
       "    <tr>\n",
       "      <th>17359340</th>\n",
       "      <td>135359</td>\n",
       "      <td>F</td>\n",
       "      <td>214297</td>\n",
       "      <td>1</td>\n",
       "    </tr>\n",
       "    <tr>\n",
       "      <th>17359341</th>\n",
       "      <td>135359</td>\n",
       "      <td>F</td>\n",
       "      <td>215145</td>\n",
       "      <td>1</td>\n",
       "    </tr>\n",
       "    <tr>\n",
       "      <th>17359343</th>\n",
       "      <td>135359</td>\n",
       "      <td>F</td>\n",
       "      <td>218646</td>\n",
       "      <td>1</td>\n",
       "    </tr>\n",
       "    <tr>\n",
       "      <th>17359344</th>\n",
       "      <td>135359</td>\n",
       "      <td>F</td>\n",
       "      <td>218857</td>\n",
       "      <td>1</td>\n",
       "    </tr>\n",
       "    <tr>\n",
       "      <th>17359345</th>\n",
       "      <td>135359</td>\n",
       "      <td>F</td>\n",
       "      <td>218988</td>\n",
       "      <td>1</td>\n",
       "    </tr>\n",
       "  </tbody>\n",
       "</table>\n",
       "<p>11712126 rows × 4 columns</p>\n",
       "</div>"
      ],
      "text/plain": [
       "          UserID Gender  ProfileID  Rating\n",
       "0              1      F        133       1\n",
       "1              1      F        720       1\n",
       "2              1      F        971       1\n",
       "3              1      F       1095       1\n",
       "4              1      F       1616       1\n",
       "...          ...    ...        ...     ...\n",
       "17359340  135359      F     214297       1\n",
       "17359341  135359      F     215145       1\n",
       "17359343  135359      F     218646       1\n",
       "17359344  135359      F     218857       1\n",
       "17359345  135359      F     218988       1\n",
       "\n",
       "[11712126 rows x 4 columns]"
      ]
     },
     "execution_count": 95,
     "metadata": {},
     "output_type": "execute_result"
    }
   ],
   "source": [
    "ratings[\"Rating\"] = np.where(ratings[\"Rating\"] < 5, 0, 1)\n",
    "ratings = ratings[ratings[\"Rating\"] == 1]\n",
    "ratings"
   ]
  },
  {
   "cell_type": "markdown",
   "id": "4effa609",
   "metadata": {},
   "source": [
    "Due to large data set, we need to reduce the data records."
   ]
  },
  {
   "cell_type": "code",
   "execution_count": 96,
   "id": "cad4f03f",
   "metadata": {},
   "outputs": [
    {
     "data": {
      "text/html": [
       "<div>\n",
       "<style scoped>\n",
       "    .dataframe tbody tr th:only-of-type {\n",
       "        vertical-align: middle;\n",
       "    }\n",
       "\n",
       "    .dataframe tbody tr th {\n",
       "        vertical-align: top;\n",
       "    }\n",
       "\n",
       "    .dataframe thead th {\n",
       "        text-align: right;\n",
       "    }\n",
       "</style>\n",
       "<table border=\"1\" class=\"dataframe\">\n",
       "  <thead>\n",
       "    <tr style=\"text-align: right;\">\n",
       "      <th></th>\n",
       "      <th>UserID</th>\n",
       "      <th>Gender</th>\n",
       "      <th>ProfileID</th>\n",
       "      <th>Rating</th>\n",
       "    </tr>\n",
       "  </thead>\n",
       "  <tbody>\n",
       "    <tr>\n",
       "      <th>0</th>\n",
       "      <td>1</td>\n",
       "      <td>F</td>\n",
       "      <td>133</td>\n",
       "      <td>1</td>\n",
       "    </tr>\n",
       "    <tr>\n",
       "      <th>1</th>\n",
       "      <td>1</td>\n",
       "      <td>F</td>\n",
       "      <td>720</td>\n",
       "      <td>1</td>\n",
       "    </tr>\n",
       "    <tr>\n",
       "      <th>2</th>\n",
       "      <td>1</td>\n",
       "      <td>F</td>\n",
       "      <td>971</td>\n",
       "      <td>1</td>\n",
       "    </tr>\n",
       "    <tr>\n",
       "      <th>3</th>\n",
       "      <td>1</td>\n",
       "      <td>F</td>\n",
       "      <td>1095</td>\n",
       "      <td>1</td>\n",
       "    </tr>\n",
       "    <tr>\n",
       "      <th>4</th>\n",
       "      <td>1</td>\n",
       "      <td>F</td>\n",
       "      <td>1616</td>\n",
       "      <td>1</td>\n",
       "    </tr>\n",
       "    <tr>\n",
       "      <th>...</th>\n",
       "      <td>...</td>\n",
       "      <td>...</td>\n",
       "      <td>...</td>\n",
       "      <td>...</td>\n",
       "    </tr>\n",
       "    <tr>\n",
       "      <th>1261990</th>\n",
       "      <td>9999</td>\n",
       "      <td>M</td>\n",
       "      <td>90</td>\n",
       "      <td>1</td>\n",
       "    </tr>\n",
       "    <tr>\n",
       "      <th>1261992</th>\n",
       "      <td>9999</td>\n",
       "      <td>M</td>\n",
       "      <td>9690</td>\n",
       "      <td>1</td>\n",
       "    </tr>\n",
       "    <tr>\n",
       "      <th>1262054</th>\n",
       "      <td>10000</td>\n",
       "      <td>F</td>\n",
       "      <td>3968</td>\n",
       "      <td>1</td>\n",
       "    </tr>\n",
       "    <tr>\n",
       "      <th>1262056</th>\n",
       "      <td>10000</td>\n",
       "      <td>F</td>\n",
       "      <td>7724</td>\n",
       "      <td>1</td>\n",
       "    </tr>\n",
       "    <tr>\n",
       "      <th>1262057</th>\n",
       "      <td>10000</td>\n",
       "      <td>F</td>\n",
       "      <td>7904</td>\n",
       "      <td>1</td>\n",
       "    </tr>\n",
       "  </tbody>\n",
       "</table>\n",
       "<p>49379 rows × 4 columns</p>\n",
       "</div>"
      ],
      "text/plain": [
       "         UserID Gender  ProfileID  Rating\n",
       "0             1      F        133       1\n",
       "1             1      F        720       1\n",
       "2             1      F        971       1\n",
       "3             1      F       1095       1\n",
       "4             1      F       1616       1\n",
       "...         ...    ...        ...     ...\n",
       "1261990    9999      M         90       1\n",
       "1261992    9999      M       9690       1\n",
       "1262054   10000      F       3968       1\n",
       "1262056   10000      F       7724       1\n",
       "1262057   10000      F       7904       1\n",
       "\n",
       "[49379 rows x 4 columns]"
      ]
     },
     "execution_count": 96,
     "metadata": {},
     "output_type": "execute_result"
    }
   ],
   "source": [
    "ratings = ratings[(ratings[\"UserID\"] <= 10000) & (ratings[\"ProfileID\"] <= 10000)]\n",
    "ratings"
   ]
  },
  {
   "cell_type": "markdown",
   "id": "0c2b2354",
   "metadata": {},
   "source": [
    "For large dataset visualization"
   ]
  },
  {
   "cell_type": "code",
   "execution_count": 99,
   "id": "1c5a2b64",
   "metadata": {},
   "outputs": [
    {
     "data": {
      "text/html": [
       "<img src=\"network-graph-1840565148.png\"/>"
      ],
      "text/plain": [
       "<IPython.core.display.Image object>"
      ]
     },
     "execution_count": 99,
     "metadata": {},
     "output_type": "execute_result"
    }
   ],
   "source": [
    "import graph_tool.all as gt \n",
    "import random\n",
    "from IPython.display import Image\n",
    "\n",
    "network_graph_file = \"network-graph-\" + str(random.randint(0, 2e9)) + \".png\"\n",
    "\n",
    "g = gt.Graph(directed=True)\n",
    "vmap = g.add_edge_list(ratings[[\"UserID\", \"ProfileID\"]].to_numpy(), hashed=True)\n",
    "pos = gt.fruchterman_reingold_layout(g, n_iter=10)\n",
    "\n",
    "v_size = g.new_vertex_property(\"double\")\n",
    "g.vertex_properties[\"v_size\"] = v_size\n",
    "\n",
    "v_font_size = g.new_vertex_property(\"double\")\n",
    "g.vertex_properties[\"v_font_size\"] = v_font_size\n",
    "\n",
    "v_pen_width = g.new_vertex_property(\"double\")\n",
    "g.vertex_properties[\"v_pen_width\"] = v_pen_width\n",
    " \n",
    "for v in g.vertices():\n",
    "    v_size[v] = (1 + v.in_degree() * 4) * (1000 / g.num_vertices())\n",
    "    v_font_size[v] = (1 + v.in_degree()) * (400 / g.num_vertices())\n",
    "    v_pen_width[v] = (1 + v.in_degree()) * (100 / g.num_vertices())\n",
    "\n",
    "gt.graph_draw(g, vertex_text=vmap, pos=pos, vertex_size=v_size, vertex_font_size=v_font_size, vertex_fill_color=[0.2, 0.4, 0.53, 0.9], vertex_pen_width=v_pen_width, vertex_font_family=\"roboto\", output_size=(2048, 2048), bg_color=[1, 1, 1, 1], output=network_graph_file)\n",
    "\n",
    "Image(url=network_graph_file)"
   ]
  },
  {
   "cell_type": "markdown",
   "id": "0b5047d4",
   "metadata": {},
   "source": [
    "For small dataset visualization"
   ]
  },
  {
   "cell_type": "code",
   "execution_count": 24,
   "id": "7ed00334",
   "metadata": {},
   "outputs": [
    {
     "name": "stderr",
     "output_type": "stream",
     "text": [
      "*c* argument looks like a single numeric RGB or RGBA sequence, which should be avoided as value-mapping will have precedence in case its length matches with *x* & *y*.  Please use the *color* keyword-argument or provide a 2D array with a single row if you intend to specify the same RGB or RGBA value for all points.\n"
     ]
    },
    {
     "data": {
      "image/png": "[encoded data removed]",
      "text/plain": [
       "<Figure size 432x288 with 1 Axes>"
      ]
     },
     "metadata": {},
     "output_type": "display_data"
    }
   ],
   "source": [
    "# import matplotlib.pyplot as plt\n",
    "# import networkx as nx\n",
    "\n",
    "# gr = nx.from_pandas_edgelist(ratings, \"UserID\", \"ProfileID\", \"Rating\", create_using=nx.DiGraph())\n",
    "# pos = nx.fruchterman_reingold_layout(gr)\n",
    "# nx.draw(gr, pos, with_labels=True, node_size=500, node_color=[0.2, 0.4, 0.53, 0.9], font_color=\"whitesmoke\")\n",
    "# plt.show()"
   ]
  },
  {
   "cell_type": "code",
   "execution_count": null,
   "id": "dfd5d8c1",
   "metadata": {},
   "outputs": [],
   "source": []
  },
  {
   "cell_type": "markdown",
   "id": "75272c16",
   "metadata": {},
   "source": [
    "# Preparing data for Collaborative Filtering  "
   ]
  },
  {
   "cell_type": "code",
   "execution_count": null,
   "id": "fbb20889",
   "metadata": {},
   "outputs": [],
   "source": [
    "user_ratings = ratings.pivot_table(index=[\"UserID\"], columns=[\"ProfileID\"], values=[\"Rating\"])\n",
    "user_ratings.head()"
   ]
  },
  {
   "cell_type": "code",
   "execution_count": null,
   "id": "0ec233fc",
   "metadata": {},
   "outputs": [],
   "source": [
    "user_ratings = user_ratings.fillna(0)\n",
    "user_ratings"
   ]
  },
  {
   "cell_type": "code",
   "execution_count": null,
   "id": "de477c37",
   "metadata": {},
   "outputs": [],
   "source": []
  }
 ],
 "metadata": {
  "kernelspec": {
   "display_name": "ml",
   "language": "python",
   "name": "ml"
  },
  "language_info": {
   "codemirror_mode": {
    "name": "ipython",
    "version": 3
   },
   "file_extension": ".py",
   "mimetype": "text/x-python",
   "name": "python",
   "nbconvert_exporter": "python",
   "pygments_lexer": "ipython3",
   "version": "3.9.10"
  }
 },
 "nbformat": 4,
 "nbformat_minor": 5
}
